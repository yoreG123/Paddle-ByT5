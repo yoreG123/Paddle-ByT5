{
 "cells": [
  {
   "cell_type": "code",
   "execution_count": 1,
   "id": "731197e7-f734-419c-a424-4446e919d9ab",
   "metadata": {
    "execution": {
     "iopub.execute_input": "2022-02-14T00:31:04.920827Z",
     "iopub.status.busy": "2022-02-14T00:31:04.919683Z",
     "iopub.status.idle": "2022-02-14T00:31:07.761839Z",
     "shell.execute_reply": "2022-02-14T00:31:07.761079Z",
     "shell.execute_reply.started": "2022-02-14T00:31:04.920773Z"
    },
    "scrolled": true
   },
   "outputs": [
    {
     "name": "stdout",
     "output_type": "stream",
     "text": [
      "Found existing installation: paddlenlp 2.1.1\n",
      "Uninstalling paddlenlp-2.1.1:\n",
      "  Successfully uninstalled paddlenlp-2.1.1\n",
      "Looking in indexes: https://pypi.tuna.tsinghua.edu.cn/simple\n",
      "Collecting rouge_score\n",
      "  Downloading https://pypi.tuna.tsinghua.edu.cn/packages/1f/56/a81022436c08b9405a5247b71635394d44fe7e1dbedc4b28c740e09c2840/rouge_score-0.0.4-py2.py3-none-any.whl (22 kB)\n",
      "Requirement already satisfied: numpy in /opt/conda/envs/python35-paddle120-env/lib/python3.7/site-packages (from rouge_score) (1.19.5)\n",
      "Requirement already satisfied: absl-py in /opt/conda/envs/python35-paddle120-env/lib/python3.7/site-packages (from rouge_score) (0.8.1)\n",
      "Requirement already satisfied: nltk in /opt/conda/envs/python35-paddle120-env/lib/python3.7/site-packages (from rouge_score) (3.4.5)\n",
      "Requirement already satisfied: six>=1.14.0 in /opt/conda/envs/python35-paddle120-env/lib/python3.7/site-packages (from rouge_score) (1.16.0)\n",
      "Installing collected packages: rouge-score\n",
      "Successfully installed rouge-score-0.0.4\n",
      "\u001b[33mWARNING: You are using pip version 21.3.1; however, version 22.0.3 is available.\n",
      "You should consider upgrading via the '/opt/conda/envs/python35-paddle120-env/bin/python -m pip install --upgrade pip' command.\u001b[0m\n"
     ]
    }
   ],
   "source": [
    "!pip uninstall paddlenlp -y\n",
    "!pip install rouge_score"
   ]
  },
  {
   "cell_type": "code",
   "execution_count": 21,
   "id": "09d8f549-74ae-413e-b9aa-85a41b56fa09",
   "metadata": {
    "execution": {
     "iopub.execute_input": "2022-02-14T19:27:11.068626Z",
     "iopub.status.busy": "2022-02-14T19:27:11.068126Z",
     "iopub.status.idle": "2022-02-14T19:27:52.111026Z",
     "shell.execute_reply": "2022-02-14T19:27:52.110176Z",
     "shell.execute_reply.started": "2022-02-14T19:27:11.068585Z"
    },
    "scrolled": true
   },
   "outputs": [
    {
     "name": "stdout",
     "output_type": "stream",
     "text": [
      "W0215 03:27:13.695681 19402 device_context.cc:447] Please NOTE: device: 0, GPU Compute Capability: 7.0, Driver API Version: 10.1, Runtime API Version: 10.1\n",
      "W0215 03:27:13.701611 19402 device_context.cc:465] device: 0, cuDNN Version: 7.6.\n",
      "100%|█████████████████████████████████████████████| 9/9 [00:26<00:00,  2.73s/it]\n",
      "#######################################\n",
      "rogueL: 69.67476226454119\n",
      "65.68850536326065\n",
      "##################################################\n",
      "##################################################\n",
      "\u001b[0m"
     ]
    }
   ],
   "source": [
    "!python byt5/tasks/tweetqa/eval.py"
   ]
  }
 ],
 "metadata": {
  "kernelspec": {
   "display_name": "Python 3",
   "language": "python",
   "name": "py35-paddle1.2.0"
  },
  "language_info": {
   "codemirror_mode": {
    "name": "ipython",
    "version": 3
   },
   "file_extension": ".py",
   "mimetype": "text/x-python",
   "name": "python",
   "nbconvert_exporter": "python",
   "pygments_lexer": "ipython3",
   "version": "3.7.4"
  }
 },
 "nbformat": 4,
 "nbformat_minor": 5
}
